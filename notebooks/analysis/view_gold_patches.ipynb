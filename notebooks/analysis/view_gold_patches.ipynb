{
 "cells": [
  {
   "cell_type": "code",
   "execution_count": 4,
   "metadata": {},
   "outputs": [
    {
     "name": "stdout",
     "output_type": "stream",
     "text": [
      "dict_keys(['repo', 'instance_id', 'base_commit', 'patch', 'test_patch', 'problem_statement', 'hints_text', 'created_at', 'version', 'FAIL_TO_PASS', 'PASS_TO_PASS', 'environment_setup_commit'])\n"
     ]
    }
   ],
   "source": [
    "import datasets\n",
    "dataset = datasets.load_dataset('princeton-nlp/SWE-bench_Lite', split=\"test\")\n",
    "\n",
    "instance = next(iter(dataset))\n",
    "print(instance.keys())"
   ]
  },
  {
   "cell_type": "code",
   "execution_count": 9,
   "metadata": {},
   "outputs": [
    {
     "name": "stdout",
     "output_type": "stream",
     "text": [
      "diff --git a/astropy/modeling/separable.py b/astropy/modeling/separable.py\n",
      "--- a/astropy/modeling/separable.py\n",
      "+++ b/astropy/modeling/separable.py\n",
      "@@ -242,7 +242,7 @@ def _cstack(left, right):\n",
      "         cright = _coord_matrix(right, 'right', noutp)\n",
      "     else:\n",
      "         cright = np.zeros((noutp, right.shape[1]))\n",
      "-        cright[-right.shape[0]:, -right.shape[1]:] = 1\n",
      "+        cright[-right.shape[0]:, -right.shape[1]:] = right\n",
      " \n",
      "     return np.hstack([cleft, cright])\n",
      " \n",
      "\n"
     ]
    }
   ],
   "source": [
    "print(instance['patch'])"
   ]
  }
 ],
 "metadata": {
  "kernelspec": {
   "display_name": "swe-agent",
   "language": "python",
   "name": "python3"
  },
  "language_info": {
   "codemirror_mode": {
    "name": "ipython",
    "version": 3
   },
   "file_extension": ".py",
   "mimetype": "text/x-python",
   "name": "python",
   "nbconvert_exporter": "python",
   "pygments_lexer": "ipython3",
   "version": "3.11.9"
  }
 },
 "nbformat": 4,
 "nbformat_minor": 2
}
