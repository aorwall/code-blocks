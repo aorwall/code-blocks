{
 "cells": [
  {
   "cell_type": "code",
   "execution_count": 1,
   "id": "20ddba631a73df13",
   "metadata": {
    "ExecuteTime": {
     "end_time": "2024-06-16T10:24:02.340929Z",
     "start_time": "2024-06-16T10:24:02.331084Z"
    }
   },
   "outputs": [
    {
     "name": "stdout",
     "output_type": "stream",
     "text": [
      "/home/albert/repos/albert/moatless/evaluations\n"
     ]
    }
   ],
   "source": [
    "import litellm\n",
    "import datetime\n",
    "import os\n",
    "\n",
    "index_store_dir = f\"/home/albert/index_store\"\n",
    "repo_base_dir = f\"/tmp/repos\"\n",
    "\n",
    "model = \"azure/gpt-4o\"\n",
    "edit_model = \"azure/gpt-4o\"\n",
    "\n",
    "# model = \"claude-3-5-sonnet-20240620\"\n",
    "# edit_model = \"claude-3-5-sonnet-20240620\"\n",
    "\n",
    "date_str = datetime.datetime.now().strftime(\"%Y%m%d\")\n",
    "model_file_name = f\"{model.replace('/', '_')}\"\n",
    "\n",
    "if model != edit_model:\n",
    "    model_file_name += f\"_edit_{edit_model.replace('/', '_')}\"\n",
    "\n",
    "evaluations_dir = \"/home/albert/repos/albert/moatless/evaluations\"\n",
    "evaluation_name = f\"{date_str}_moatless_code_{model_file_name}\"\n",
    "\n",
    "previous_trajectory_dir = f\"/home/albert/repos/albert/swe-planner/evaluations/20240817_search_and_identify_gpt-4o\"\n",
    "\n",
    "# litellm.success_callback = [\"langfuse\"]\n",
    "# litellm.failure_callback = [\"langfuse\"]\n",
    "\n",
    "print(evaluations_dir)"
   ]
  },
  {
   "cell_type": "code",
   "execution_count": 2,
   "id": "9d5b03af-3d97-49b5-9683-123451e5e23d",
   "metadata": {},
   "outputs": [],
   "source": [
    "from moatless.edit.edit import EditCode\n",
    "from moatless.edit.plan import PlanToCode\n",
    "from moatless.transitions import search_and_code_transitions, code_transitions\n",
    "\n",
    "global_params = {\n",
    "    \"model\": model,\n",
    "    \"temperature\": 0.2,\n",
    "    \"max_tokens\": 2000\n",
    "}\n",
    "\n",
    "state_params = {\n",
    "    PlanToCode: {\n",
    "        \"model\": model,\n",
    "        \"temperature\": 0.2,\n",
    "        \"max_tokens_in_edit_prompt\": 750,\n",
    "        \"finish_on_review\": True,\n",
    "    },\n",
    "    ExpandContext: {\n",
    "        \"\n",
    "    }\n",
    "    EditCode: {\n",
    "        \"model\": edit_model,\n",
    "        \"temperature\": 0.2,\n",
    "        \"chain_of_thought\": False,\n",
    "        \"show_file_context\": False,\n",
    "        \"max_prompt_file_tokens\": 8000,\n",
    "    }\n",
    "}\n",
    "\n",
    "transitions = search_and_code_transitions(\n",
    "    global_params=global_params,\n",
    "    state_params=state_params,\n",
    ")"
   ]
  },
  {
   "cell_type": "code",
   "execution_count": 3,
   "id": "e531db2d-5770-4369-8511-aa533bba5724",
   "metadata": {},
   "outputs": [],
   "source": [
    "resolved_by=0\n",
    "instance_ids=[\n",
    "    \"django__django-10914\", \n",
    "\"scikit-learn__scikit-learn-10297\", \n",
    "\"astropy__astropy-7606\", \n",
    "\"astropy__astropy-7671\", \n",
    "\"django__django-12193\", \n",
    "\"django__django-12419\", \n",
    "\"sympy__sympy-19637\", \n",
    "\"django__django-13809\", \n",
    "\"django__django-15731\", \n",
    "\"matplotlib__matplotlib-25122\", \n",
    "\"psf__requests-1724\", \n",
    "\"astropy__astropy-8707\", \n",
    "\"django__django-11532\", \n",
    "\"pytest-dev__pytest-7205\", \n",
    "\"pydata__xarray-4356\", \n",
    "\"django__django-14672\", \n",
    "\"sympy__sympy-24066\", \n",
    "\"psf__requests-1766\n",
    "]\n",
    "\n",
    "split = \"verified\""
   ]
  },
  {
   "cell_type": "code",
   "execution_count": 6,
   "id": "a476221019e723c6",
   "metadata": {
    "ExecuteTime": {
     "end_time": "2024-06-16T10:24:02.378186Z",
     "start_time": "2024-06-16T10:24:02.362397Z"
    }
   },
   "outputs": [
    {
     "data": {
      "application/vnd.jupyter.widget-view+json": {
       "model_id": "420eec9746f748eb87ba0ec19a9d7a34",
       "version_major": 2,
       "version_minor": 0
      },
      "text/plain": [
       "  0%|          | 0/28 [00:00<?, ?it/s]"
      ]
     },
     "metadata": {},
     "output_type": "display_data"
    }
   ],
   "source": [
    "from moatless.benchmark.evaluation import Evaluation\n",
    "import logging\n",
    "\n",
    "logging.basicConfig(\n",
    "    format=\"%(asctime)s - %(name)s - %(levelname)s - %(message)s\",\n",
    "    level=logging.WARNING,\n",
    ")\n",
    "evaluation = Evaluation(\n",
    "    transitions=transitions,\n",
    "    evaluations_dir=evaluations_dir,\n",
    "    previous_trajectory_dir=previous_trajectory_dir,\n",
    "    evaluation_name=evaluation_name,\n",
    "    retry_state=\"PlanToCode\",\n",
    "    max_file_context_tokens=16000,\n",
    "    report_mode=\"code\",\n",
    "    num_workers=1\n",
    ")\n",
    "\n",
    "evaluation.run_evaluation(\n",
    "    resolved_by=resolved_by,\n",
    "    instance_ids=instance_ids,\n",
    "    split=split\n",
    ")"
   ]
  },
  {
   "cell_type": "code",
   "execution_count": null,
   "id": "fa90ab52-7fae-43ff-8424-998a27de9eb2",
   "metadata": {},
   "outputs": [],
   "source": []
  },
  {
   "cell_type": "code",
   "execution_count": null,
   "id": "6f63c76c-3038-47be-ad10-1984fd6087ec",
   "metadata": {},
   "outputs": [],
   "source": []
  }
 ],
 "metadata": {
  "kernelspec": {
   "display_name": "Python 3 (ipykernel)",
   "language": "python",
   "name": "python3"
  },
  "language_info": {
   "codemirror_mode": {
    "name": "ipython",
    "version": 3
   },
   "file_extension": ".py",
   "mimetype": "text/x-python",
   "name": "python",
   "nbconvert_exporter": "python",
   "pygments_lexer": "ipython3",
   "version": "3.12.4"
  }
 },
 "nbformat": 4,
 "nbformat_minor": 5
}
